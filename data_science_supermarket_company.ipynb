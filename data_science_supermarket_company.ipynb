{
 "cells": [
  {
   "cell_type": "markdown",
   "metadata": {},
   "source": [
    "# <font color='lightgreen' style='font-size: 30px;'>Supermarket Company Dataset - Regression Analysis</font>\n",
    "<hr style='border: 2px solid red;'>\n",
    "<hr>\n",
    "\n",
    "### Description:\n",
    "<p style='font-size: 18px; line-height: 2; margin: 10px 50px; text-align: justify;'>A supermarket company has a new internal policy to not discriminate significantly salary according to the location of their employees. They gathered the data from all of their employees and want you to verify if they are already following the new policy.\n",
    "</p>\n",
    "\n",
    "### Files (.csv):\n",
    "\n",
    "<ul style='font-size: 18px; line-height: 2; text-align: justify;'>\n",
    "    <li><b>1stPhase-SelectiveProcess-Data Science-Data Base.csv</b></li>\n",
    "</ul>\n",
    "\n",
    "### Questions:\n",
    "<ul style='font-size: 18px; line-height: 2; text-align: justify;'>\n",
    "    <li>Describe how can you use the supermarket data to verify if employees from different locations have significantly different salaries ? (Include here how you are going to treat the variables before feeding into the model).</li>\n",
    "    <li>Implement the approach you described in Python or R?</li>"
   ]
  },
  {
   "cell_type": "markdown",
   "metadata": {},
   "source": [
    "# 1. Data preprocessing"
   ]
  },
  {
   "cell_type": "markdown",
   "metadata": {},
   "source": [
    "## Imports"
   ]
  },
  {
   "cell_type": "code",
   "execution_count": 1,
   "metadata": {},
   "outputs": [],
   "source": [
    "# import libraries\n",
    "import pandas as pd\n",
    "import numpy as np\n",
    "import matplotlib.pyplot as plt\n",
    "import seaborn as sns"
   ]
  },
  {
   "cell_type": "markdown",
   "metadata": {},
   "source": [
    "## Load the data"
   ]
  },
  {
   "cell_type": "code",
   "execution_count": 2,
   "metadata": {},
   "outputs": [
    {
     "data": {
      "text/html": [
       "<div>\n",
       "<style scoped>\n",
       "    .dataframe tbody tr th:only-of-type {\n",
       "        vertical-align: middle;\n",
       "    }\n",
       "\n",
       "    .dataframe tbody tr th {\n",
       "        vertical-align: top;\n",
       "    }\n",
       "\n",
       "    .dataframe thead th {\n",
       "        text-align: right;\n",
       "    }\n",
       "</style>\n",
       "<table border=\"1\" class=\"dataframe\">\n",
       "  <thead>\n",
       "    <tr style=\"text-align: right;\">\n",
       "      <th></th>\n",
       "      <th>ID</th>\n",
       "      <th>EDUCAÇÃO</th>\n",
       "      <th>CARGO</th>\n",
       "      <th>LOCAL</th>\n",
       "      <th>IDADE</th>\n",
       "      <th>TEMPOCASA</th>\n",
       "      <th>SALARIO_MENSAL</th>\n",
       "    </tr>\n",
       "  </thead>\n",
       "  <tbody>\n",
       "    <tr>\n",
       "      <th>0</th>\n",
       "      <td>1</td>\n",
       "      <td>SECUNDÁRIO</td>\n",
       "      <td>GERENTE</td>\n",
       "      <td>INTERIOR</td>\n",
       "      <td>30</td>\n",
       "      <td>1</td>\n",
       "      <td>4279.5</td>\n",
       "    </tr>\n",
       "    <tr>\n",
       "      <th>1</th>\n",
       "      <td>2</td>\n",
       "      <td>SUPERIOR</td>\n",
       "      <td>AUXILIAR</td>\n",
       "      <td>INTERIOR</td>\n",
       "      <td>32</td>\n",
       "      <td>4</td>\n",
       "      <td>4575.4</td>\n",
       "    </tr>\n",
       "    <tr>\n",
       "      <th>2</th>\n",
       "      <td>3</td>\n",
       "      <td>SECUNDÁRIO</td>\n",
       "      <td>AUXILIAR</td>\n",
       "      <td>CAPITAL</td>\n",
       "      <td>33</td>\n",
       "      <td>2</td>\n",
       "      <td>4735.6</td>\n",
       "    </tr>\n",
       "    <tr>\n",
       "      <th>3</th>\n",
       "      <td>4</td>\n",
       "      <td>SUPERIOR</td>\n",
       "      <td>GERENTE</td>\n",
       "      <td>INTERIOR</td>\n",
       "      <td>34</td>\n",
       "      <td>3</td>\n",
       "      <td>4863.1</td>\n",
       "    </tr>\n",
       "    <tr>\n",
       "      <th>4</th>\n",
       "      <td>5</td>\n",
       "      <td>SECUNDÁRIO</td>\n",
       "      <td>GERENTE</td>\n",
       "      <td>INTERIOR</td>\n",
       "      <td>36</td>\n",
       "      <td>1</td>\n",
       "      <td>5355.8</td>\n",
       "    </tr>\n",
       "  </tbody>\n",
       "</table>\n",
       "</div>"
      ],
      "text/plain": [
       "   ID    EDUCAÇÃO     CARGO     LOCAL  IDADE  TEMPOCASA  SALARIO_MENSAL\n",
       "0   1  SECUNDÁRIO   GERENTE  INTERIOR     30          1          4279.5\n",
       "1   2    SUPERIOR  AUXILIAR  INTERIOR     32          4          4575.4\n",
       "2   3  SECUNDÁRIO  AUXILIAR   CAPITAL     33          2          4735.6\n",
       "3   4    SUPERIOR   GERENTE  INTERIOR     34          3          4863.1\n",
       "4   5  SECUNDÁRIO   GERENTE  INTERIOR     36          1          5355.8"
      ]
     },
     "execution_count": 2,
     "metadata": {},
     "output_type": "execute_result"
    }
   ],
   "source": [
    "# Load the provided dataset\n",
    "df = pd.read_excel('1st_Phase_-_Selective_Process_-_Data_Science_-_DataBase.xlsx')\n",
    "\n",
    "# Display the first few rows to understand its structure\n",
    "df.head()"
   ]
  },
  {
   "cell_type": "markdown",
   "metadata": {},
   "source": [
    "## Exploration"
   ]
  },
  {
   "cell_type": "code",
   "execution_count": 3,
   "metadata": {},
   "outputs": [
    {
     "name": "stdout",
     "output_type": "stream",
     "text": [
      "Shape of the DataFrame: (80, 7)\n",
      "Columns in the DataFrame: ['ID', 'EDUCAÇÃO', 'CARGO', 'LOCAL', 'IDADE', 'TEMPOCASA', 'SALARIO_MENSAL']\n"
     ]
    }
   ],
   "source": [
    "# Verify the number of rows and columns\n",
    "print(\"Shape of the DataFrame:\", df.shape)\n",
    "\n",
    "# List the columns of the DataFrame\n",
    "print(\"Columns in the DataFrame:\", df.columns.tolist())"
   ]
  },
  {
   "cell_type": "code",
   "execution_count": 4,
   "metadata": {},
   "outputs": [
    {
     "name": "stdout",
     "output_type": "stream",
     "text": [
      "<class 'pandas.core.frame.DataFrame'>\n",
      "RangeIndex: 80 entries, 0 to 79\n",
      "Data columns (total 7 columns):\n",
      " #   Column          Non-Null Count  Dtype  \n",
      "---  ------          --------------  -----  \n",
      " 0   ID              80 non-null     int64  \n",
      " 1   EDUCAÇÃO        80 non-null     object \n",
      " 2   CARGO           80 non-null     object \n",
      " 3   LOCAL           80 non-null     object \n",
      " 4   IDADE           80 non-null     int64  \n",
      " 5   TEMPOCASA       80 non-null     int64  \n",
      " 6   SALARIO_MENSAL  80 non-null     float64\n",
      "dtypes: float64(1), int64(3), object(3)\n",
      "memory usage: 4.5+ KB\n"
     ]
    }
   ],
   "source": [
    "# Learning the dtypes of columns' and how many non-null values are there in those columns\n",
    "df.info()"
   ]
  },
  {
   "cell_type": "code",
   "execution_count": 5,
   "metadata": {},
   "outputs": [
    {
     "data": {
      "text/html": [
       "<div>\n",
       "<style scoped>\n",
       "    .dataframe tbody tr th:only-of-type {\n",
       "        vertical-align: middle;\n",
       "    }\n",
       "\n",
       "    .dataframe tbody tr th {\n",
       "        vertical-align: top;\n",
       "    }\n",
       "\n",
       "    .dataframe thead th {\n",
       "        text-align: right;\n",
       "    }\n",
       "</style>\n",
       "<table border=\"1\" class=\"dataframe\">\n",
       "  <thead>\n",
       "    <tr style=\"text-align: right;\">\n",
       "      <th></th>\n",
       "      <th>count</th>\n",
       "      <th>mean</th>\n",
       "      <th>std</th>\n",
       "      <th>min</th>\n",
       "      <th>25%</th>\n",
       "      <th>50%</th>\n",
       "      <th>75%</th>\n",
       "      <th>max</th>\n",
       "    </tr>\n",
       "  </thead>\n",
       "  <tbody>\n",
       "    <tr>\n",
       "      <th>ID</th>\n",
       "      <td>80.0</td>\n",
       "      <td>41.5000</td>\n",
       "      <td>23.797670</td>\n",
       "      <td>1.0</td>\n",
       "      <td>21.75</td>\n",
       "      <td>41.50</td>\n",
       "      <td>61.25</td>\n",
       "      <td>82.0</td>\n",
       "    </tr>\n",
       "    <tr>\n",
       "      <th>IDADE</th>\n",
       "      <td>80.0</td>\n",
       "      <td>49.7500</td>\n",
       "      <td>9.594962</td>\n",
       "      <td>30.0</td>\n",
       "      <td>43.75</td>\n",
       "      <td>49.00</td>\n",
       "      <td>56.00</td>\n",
       "      <td>72.0</td>\n",
       "    </tr>\n",
       "    <tr>\n",
       "      <th>TEMPOCASA</th>\n",
       "      <td>80.0</td>\n",
       "      <td>10.8875</td>\n",
       "      <td>7.401665</td>\n",
       "      <td>0.0</td>\n",
       "      <td>3.75</td>\n",
       "      <td>12.50</td>\n",
       "      <td>17.00</td>\n",
       "      <td>25.0</td>\n",
       "    </tr>\n",
       "    <tr>\n",
       "      <th>SALARIO_MENSAL</th>\n",
       "      <td>80.0</td>\n",
       "      <td>5777.6225</td>\n",
       "      <td>1138.187752</td>\n",
       "      <td>4186.6</td>\n",
       "      <td>4894.30</td>\n",
       "      <td>5673.45</td>\n",
       "      <td>6306.30</td>\n",
       "      <td>12465.8</td>\n",
       "    </tr>\n",
       "  </tbody>\n",
       "</table>\n",
       "</div>"
      ],
      "text/plain": [
       "                count       mean          std     min      25%      50%  \\\n",
       "ID               80.0    41.5000    23.797670     1.0    21.75    41.50   \n",
       "IDADE            80.0    49.7500     9.594962    30.0    43.75    49.00   \n",
       "TEMPOCASA        80.0    10.8875     7.401665     0.0     3.75    12.50   \n",
       "SALARIO_MENSAL   80.0  5777.6225  1138.187752  4186.6  4894.30  5673.45   \n",
       "\n",
       "                    75%      max  \n",
       "ID                61.25     82.0  \n",
       "IDADE             56.00     72.0  \n",
       "TEMPOCASA         17.00     25.0  \n",
       "SALARIO_MENSAL  6306.30  12465.8  "
      ]
     },
     "execution_count": 5,
     "metadata": {},
     "output_type": "execute_result"
    }
   ],
   "source": [
    "# Getting the statistical summary of dataset\n",
    "df.describe().T"
   ]
  },
  {
   "cell_type": "code",
   "execution_count": 6,
   "metadata": {},
   "outputs": [
    {
     "data": {
      "text/plain": [
       "ID          80\n",
       "EDUCAÇÃO     2\n",
       "CARGO        3\n",
       "LOCAL        2\n",
       "IDADE       36\n",
       "dtype: int64"
      ]
     },
     "execution_count": 6,
     "metadata": {},
     "output_type": "execute_result"
    }
   ],
   "source": [
    "# Checking unique values ​​in the columns\n",
    "df.nunique().head()"
   ]
  },
  {
   "cell_type": "code",
   "execution_count": 7,
   "metadata": {},
   "outputs": [
    {
     "data": {
      "text/plain": [
       "ID                0\n",
       "EDUCAÇÃO          0\n",
       "CARGO             0\n",
       "LOCAL             0\n",
       "IDADE             0\n",
       "TEMPOCASA         0\n",
       "SALARIO_MENSAL    0\n",
       "dtype: int64"
      ]
     },
     "execution_count": 7,
     "metadata": {},
     "output_type": "execute_result"
    }
   ],
   "source": [
    "# checking for missing values (NaN)\n",
    "df.isnull().sum()"
   ]
  },
  {
   "cell_type": "code",
   "execution_count": 8,
   "metadata": {},
   "outputs": [
    {
     "data": {
      "text/plain": [
       "0"
      ]
     },
     "execution_count": 8,
     "metadata": {},
     "output_type": "execute_result"
    }
   ],
   "source": [
    "# checking for duplicate values\n",
    "df.duplicated().sum()"
   ]
  },
  {
   "cell_type": "markdown",
   "metadata": {},
   "source": [
    "## Statistical Analysis"
   ]
  },
  {
   "cell_type": "code",
   "execution_count": 9,
   "metadata": {},
   "outputs": [
    {
     "data": {
      "text/html": [
       "<div>\n",
       "<style scoped>\n",
       "    .dataframe tbody tr th:only-of-type {\n",
       "        vertical-align: middle;\n",
       "    }\n",
       "\n",
       "    .dataframe tbody tr th {\n",
       "        vertical-align: top;\n",
       "    }\n",
       "\n",
       "    .dataframe thead th {\n",
       "        text-align: right;\n",
       "    }\n",
       "</style>\n",
       "<table border=\"1\" class=\"dataframe\">\n",
       "  <thead>\n",
       "    <tr style=\"text-align: right;\">\n",
       "      <th></th>\n",
       "      <th>Test</th>\n",
       "      <th>P-Value</th>\n",
       "    </tr>\n",
       "  </thead>\n",
       "  <tbody>\n",
       "    <tr>\n",
       "      <th>0</th>\n",
       "      <td>ANOVA</td>\n",
       "      <td>0.003959</td>\n",
       "    </tr>\n",
       "    <tr>\n",
       "      <th>1</th>\n",
       "      <td>T-Student</td>\n",
       "      <td>0.002202</td>\n",
       "    </tr>\n",
       "    <tr>\n",
       "      <th>2</th>\n",
       "      <td>Kruskal-Wallis</td>\n",
       "      <td>0.003138</td>\n",
       "    </tr>\n",
       "    <tr>\n",
       "      <th>3</th>\n",
       "      <td>Mann-Whitney U</td>\n",
       "      <td>0.003187</td>\n",
       "    </tr>\n",
       "    <tr>\n",
       "      <th>4</th>\n",
       "      <td>Teste Tukey</td>\n",
       "      <td>True</td>\n",
       "    </tr>\n",
       "  </tbody>\n",
       "</table>\n",
       "</div>"
      ],
      "text/plain": [
       "             Test   P-Value\n",
       "0           ANOVA  0.003959\n",
       "1       T-Student  0.002202\n",
       "2  Kruskal-Wallis  0.003138\n",
       "3  Mann-Whitney U  0.003187\n",
       "4     Teste Tukey      True"
      ]
     },
     "execution_count": 9,
     "metadata": {},
     "output_type": "execute_result"
    }
   ],
   "source": [
    "# Importing libraries for statistical tests\n",
    "from scipy.stats import ttest_ind, kruskal, mannwhitneyu, f_oneway\n",
    "from statsmodels.stats.anova import AnovaRM\n",
    "from statsmodels.stats.multicomp import pairwise_tukeyhsd\n",
    "import statsmodels.api as sm\n",
    "\n",
    "# Preparing the data for the tests\n",
    "salarios_capital = df[df['LOCAL'] == 'CAPITAL']['SALARIO_MENSAL']\n",
    "salarios_interior = df[df['LOCAL'] == 'INTERIOR']['SALARIO_MENSAL']\n",
    "\n",
    "# ANOVA\n",
    "anova_result = f_oneway(salarios_capital, salarios_interior).pvalue\n",
    "\n",
    "# T-Student\n",
    "t_test_result = ttest_ind(salarios_capital, salarios_interior, equal_var=False).pvalue\n",
    "\n",
    "# Kruskal-Wallis\n",
    "kruskal_result = kruskal(salarios_capital, salarios_interior).pvalue\n",
    "\n",
    "# Mann-Whitney U\n",
    "mann_whitney_result = mannwhitneyu(salarios_capital, salarios_interior).pvalue\n",
    "\n",
    "# Teste de Tukey\n",
    "tukey_result = pairwise_tukeyhsd(df['SALARIO_MENSAL'], df['LOCAL']).reject[0]\n",
    "\n",
    "# Comparing the results\n",
    "results_df = pd.DataFrame({\n",
    "    \"Test\": [\"ANOVA\", \"T-Student\", \"Kruskal-Wallis\", \"Mann-Whitney U\", \"Teste Tukey\"],\n",
    "    \"P-Value\": [anova_result, t_test_result, kruskal_result, mann_whitney_result, tukey_result]\n",
    "})\n",
    "\n",
    "results_df\n"
   ]
  },
  {
   "cell_type": "markdown",
   "metadata": {},
   "source": [
    "Based on the results, we can conclude that there are statistically significant differences in salaries between employees working in the capital and in the interior.\n",
    "The low p values ​​in the ANOVA, T-Student, Kruskal-Wallis and Mann-Whitney U tests reinforce the conclusion that there are significant differences in salaries between different locations. Furthermore, the \"True\" value in the Tukey Test also indicates that there are significant differences between the groups studied."
   ]
  },
  {
   "cell_type": "markdown",
   "metadata": {},
   "source": [
    "## Coding of Categorical Variables"
   ]
  },
  {
   "cell_type": "code",
   "execution_count": 10,
   "metadata": {},
   "outputs": [
    {
     "data": {
      "text/html": [
       "<div>\n",
       "<style scoped>\n",
       "    .dataframe tbody tr th:only-of-type {\n",
       "        vertical-align: middle;\n",
       "    }\n",
       "\n",
       "    .dataframe tbody tr th {\n",
       "        vertical-align: top;\n",
       "    }\n",
       "\n",
       "    .dataframe thead th {\n",
       "        text-align: right;\n",
       "    }\n",
       "</style>\n",
       "<table border=\"1\" class=\"dataframe\">\n",
       "  <thead>\n",
       "    <tr style=\"text-align: right;\">\n",
       "      <th></th>\n",
       "      <th>ID</th>\n",
       "      <th>IDADE</th>\n",
       "      <th>TEMPOCASA</th>\n",
       "      <th>SALARIO_MENSAL</th>\n",
       "      <th>EDUCAÇÃO_SECUNDÁRIO</th>\n",
       "      <th>EDUCAÇÃO_SUPERIOR</th>\n",
       "      <th>CARGO_AUXILIAR</th>\n",
       "      <th>CARGO_DIRETOR</th>\n",
       "      <th>CARGO_GERENTE</th>\n",
       "      <th>LOCAL_CAPITAL</th>\n",
       "      <th>LOCAL_INTERIOR</th>\n",
       "    </tr>\n",
       "  </thead>\n",
       "  <tbody>\n",
       "    <tr>\n",
       "      <th>0</th>\n",
       "      <td>1</td>\n",
       "      <td>30</td>\n",
       "      <td>1</td>\n",
       "      <td>4279.5</td>\n",
       "      <td>1.0</td>\n",
       "      <td>0.0</td>\n",
       "      <td>0.0</td>\n",
       "      <td>0.0</td>\n",
       "      <td>1.0</td>\n",
       "      <td>0.0</td>\n",
       "      <td>1.0</td>\n",
       "    </tr>\n",
       "    <tr>\n",
       "      <th>1</th>\n",
       "      <td>2</td>\n",
       "      <td>32</td>\n",
       "      <td>4</td>\n",
       "      <td>4575.4</td>\n",
       "      <td>0.0</td>\n",
       "      <td>1.0</td>\n",
       "      <td>1.0</td>\n",
       "      <td>0.0</td>\n",
       "      <td>0.0</td>\n",
       "      <td>0.0</td>\n",
       "      <td>1.0</td>\n",
       "    </tr>\n",
       "    <tr>\n",
       "      <th>2</th>\n",
       "      <td>3</td>\n",
       "      <td>33</td>\n",
       "      <td>2</td>\n",
       "      <td>4735.6</td>\n",
       "      <td>1.0</td>\n",
       "      <td>0.0</td>\n",
       "      <td>1.0</td>\n",
       "      <td>0.0</td>\n",
       "      <td>0.0</td>\n",
       "      <td>1.0</td>\n",
       "      <td>0.0</td>\n",
       "    </tr>\n",
       "    <tr>\n",
       "      <th>3</th>\n",
       "      <td>4</td>\n",
       "      <td>34</td>\n",
       "      <td>3</td>\n",
       "      <td>4863.1</td>\n",
       "      <td>0.0</td>\n",
       "      <td>1.0</td>\n",
       "      <td>0.0</td>\n",
       "      <td>0.0</td>\n",
       "      <td>1.0</td>\n",
       "      <td>0.0</td>\n",
       "      <td>1.0</td>\n",
       "    </tr>\n",
       "    <tr>\n",
       "      <th>4</th>\n",
       "      <td>5</td>\n",
       "      <td>36</td>\n",
       "      <td>1</td>\n",
       "      <td>5355.8</td>\n",
       "      <td>1.0</td>\n",
       "      <td>0.0</td>\n",
       "      <td>0.0</td>\n",
       "      <td>0.0</td>\n",
       "      <td>1.0</td>\n",
       "      <td>0.0</td>\n",
       "      <td>1.0</td>\n",
       "    </tr>\n",
       "  </tbody>\n",
       "</table>\n",
       "</div>"
      ],
      "text/plain": [
       "   ID  IDADE  TEMPOCASA  SALARIO_MENSAL  EDUCAÇÃO_SECUNDÁRIO  \\\n",
       "0   1     30          1          4279.5                  1.0   \n",
       "1   2     32          4          4575.4                  0.0   \n",
       "2   3     33          2          4735.6                  1.0   \n",
       "3   4     34          3          4863.1                  0.0   \n",
       "4   5     36          1          5355.8                  1.0   \n",
       "\n",
       "   EDUCAÇÃO_SUPERIOR  CARGO_AUXILIAR  CARGO_DIRETOR  CARGO_GERENTE  \\\n",
       "0                0.0             0.0            0.0            1.0   \n",
       "1                1.0             1.0            0.0            0.0   \n",
       "2                0.0             1.0            0.0            0.0   \n",
       "3                1.0             0.0            0.0            1.0   \n",
       "4                0.0             0.0            0.0            1.0   \n",
       "\n",
       "   LOCAL_CAPITAL  LOCAL_INTERIOR  \n",
       "0            0.0             1.0  \n",
       "1            0.0             1.0  \n",
       "2            1.0             0.0  \n",
       "3            0.0             1.0  \n",
       "4            0.0             1.0  "
      ]
     },
     "execution_count": 10,
     "metadata": {},
     "output_type": "execute_result"
    }
   ],
   "source": [
    "# import sklearn libraries for data preprocessing\n",
    "from sklearn.preprocessing import OneHotEncoder\n",
    "\n",
    "# Creating the OneHotEncoder object\n",
    "encoder = OneHotEncoder(sparse=False)\n",
    "\n",
    "# Selecting the categorical columns to be encoded\n",
    "categorical_columns = ['EDUCAÇÃO', 'CARGO', 'LOCAL']\n",
    "categorical_data = df[categorical_columns]\n",
    "\n",
    "# Applying the encoding to the categorical columns\n",
    "encoded_data = encoder.fit_transform(categorical_data)\n",
    "\n",
    "# Creating a DataFrame with the encoded columns\n",
    "encoded_columns = encoder.get_feature_names_out(categorical_columns)\n",
    "encoded_df = pd.DataFrame(encoded_data, columns=encoded_columns)\n",
    "\n",
    "# Concatenating the original DataFrame and the encoded DataFrame\n",
    "data_encoded = pd.concat([df.drop(categorical_columns, axis=1), encoded_df], axis=1)\n",
    "\n",
    "data_encoded.head()"
   ]
  },
  {
   "cell_type": "markdown",
   "metadata": {},
   "source": [
    "## Normalization / Scaling of Variables"
   ]
  },
  {
   "cell_type": "code",
   "execution_count": 11,
   "metadata": {},
   "outputs": [
    {
     "data": {
      "text/html": [
       "<div>\n",
       "<style scoped>\n",
       "    .dataframe tbody tr th:only-of-type {\n",
       "        vertical-align: middle;\n",
       "    }\n",
       "\n",
       "    .dataframe tbody tr th {\n",
       "        vertical-align: top;\n",
       "    }\n",
       "\n",
       "    .dataframe thead th {\n",
       "        text-align: right;\n",
       "    }\n",
       "</style>\n",
       "<table border=\"1\" class=\"dataframe\">\n",
       "  <thead>\n",
       "    <tr style=\"text-align: right;\">\n",
       "      <th></th>\n",
       "      <th>IDADE</th>\n",
       "      <th>TEMPOCASA</th>\n",
       "      <th>SALARIO_MENSAL</th>\n",
       "    </tr>\n",
       "  </thead>\n",
       "  <tbody>\n",
       "    <tr>\n",
       "      <th>count</th>\n",
       "      <td>80.000000</td>\n",
       "      <td>80.000000</td>\n",
       "      <td>80.000000</td>\n",
       "    </tr>\n",
       "    <tr>\n",
       "      <th>mean</th>\n",
       "      <td>49.750000</td>\n",
       "      <td>10.887500</td>\n",
       "      <td>5777.622500</td>\n",
       "    </tr>\n",
       "    <tr>\n",
       "      <th>std</th>\n",
       "      <td>9.594962</td>\n",
       "      <td>7.401665</td>\n",
       "      <td>1138.187752</td>\n",
       "    </tr>\n",
       "    <tr>\n",
       "      <th>min</th>\n",
       "      <td>30.000000</td>\n",
       "      <td>0.000000</td>\n",
       "      <td>4186.600000</td>\n",
       "    </tr>\n",
       "    <tr>\n",
       "      <th>25%</th>\n",
       "      <td>43.750000</td>\n",
       "      <td>3.750000</td>\n",
       "      <td>4894.300000</td>\n",
       "    </tr>\n",
       "    <tr>\n",
       "      <th>50%</th>\n",
       "      <td>49.000000</td>\n",
       "      <td>12.500000</td>\n",
       "      <td>5673.450000</td>\n",
       "    </tr>\n",
       "    <tr>\n",
       "      <th>75%</th>\n",
       "      <td>56.000000</td>\n",
       "      <td>17.000000</td>\n",
       "      <td>6306.300000</td>\n",
       "    </tr>\n",
       "    <tr>\n",
       "      <th>max</th>\n",
       "      <td>72.000000</td>\n",
       "      <td>25.000000</td>\n",
       "      <td>12465.800000</td>\n",
       "    </tr>\n",
       "  </tbody>\n",
       "</table>\n",
       "</div>"
      ],
      "text/plain": [
       "           IDADE  TEMPOCASA  SALARIO_MENSAL\n",
       "count  80.000000  80.000000       80.000000\n",
       "mean   49.750000  10.887500     5777.622500\n",
       "std     9.594962   7.401665     1138.187752\n",
       "min    30.000000   0.000000     4186.600000\n",
       "25%    43.750000   3.750000     4894.300000\n",
       "50%    49.000000  12.500000     5673.450000\n",
       "75%    56.000000  17.000000     6306.300000\n",
       "max    72.000000  25.000000    12465.800000"
      ]
     },
     "execution_count": 11,
     "metadata": {},
     "output_type": "execute_result"
    }
   ],
   "source": [
    "# Analysis of normalization or scaling of numerical variables\n",
    "\n",
    "# Selecting the numerical columns to be scaled\n",
    "numerical_columns = ['IDADE', 'TEMPOCASA', 'SALARIO_MENSAL']\n",
    "numerical_data = df[numerical_columns]\n",
    "\n",
    "# Verifying the statistical summary of the numerical columns\n",
    "numerical_data.describe()"
   ]
  },
  {
   "cell_type": "code",
   "execution_count": 12,
   "metadata": {},
   "outputs": [
    {
     "data": {
      "text/html": [
       "<div>\n",
       "<style scoped>\n",
       "    .dataframe tbody tr th:only-of-type {\n",
       "        vertical-align: middle;\n",
       "    }\n",
       "\n",
       "    .dataframe tbody tr th {\n",
       "        vertical-align: top;\n",
       "    }\n",
       "\n",
       "    .dataframe thead th {\n",
       "        text-align: right;\n",
       "    }\n",
       "</style>\n",
       "<table border=\"1\" class=\"dataframe\">\n",
       "  <thead>\n",
       "    <tr style=\"text-align: right;\">\n",
       "      <th></th>\n",
       "      <th>IDADE</th>\n",
       "      <th>TEMPOCASA</th>\n",
       "      <th>SALARIO_MENSAL</th>\n",
       "    </tr>\n",
       "  </thead>\n",
       "  <tbody>\n",
       "    <tr>\n",
       "      <th>0</th>\n",
       "      <td>-2.071359</td>\n",
       "      <td>-1.344276</td>\n",
       "      <td>-1.324539</td>\n",
       "    </tr>\n",
       "    <tr>\n",
       "      <th>1</th>\n",
       "      <td>-1.861601</td>\n",
       "      <td>-0.936405</td>\n",
       "      <td>-1.062924</td>\n",
       "    </tr>\n",
       "    <tr>\n",
       "      <th>2</th>\n",
       "      <td>-1.756722</td>\n",
       "      <td>-1.208319</td>\n",
       "      <td>-0.921286</td>\n",
       "    </tr>\n",
       "    <tr>\n",
       "      <th>3</th>\n",
       "      <td>-1.651843</td>\n",
       "      <td>-1.072362</td>\n",
       "      <td>-0.808559</td>\n",
       "    </tr>\n",
       "    <tr>\n",
       "      <th>4</th>\n",
       "      <td>-1.442085</td>\n",
       "      <td>-1.344276</td>\n",
       "      <td>-0.372947</td>\n",
       "    </tr>\n",
       "  </tbody>\n",
       "</table>\n",
       "</div>"
      ],
      "text/plain": [
       "      IDADE  TEMPOCASA  SALARIO_MENSAL\n",
       "0 -2.071359  -1.344276       -1.324539\n",
       "1 -1.861601  -0.936405       -1.062924\n",
       "2 -1.756722  -1.208319       -0.921286\n",
       "3 -1.651843  -1.072362       -0.808559\n",
       "4 -1.442085  -1.344276       -0.372947"
      ]
     },
     "execution_count": 12,
     "metadata": {},
     "output_type": "execute_result"
    }
   ],
   "source": [
    "# Import sklaern libraries for scaling\n",
    "from sklearn.preprocessing import StandardScaler\n",
    "\n",
    "# Creating the StandardScaler object\n",
    "scaler = StandardScaler()\n",
    "\n",
    "# Applying the scaling to the numerical columns\n",
    "scaled_data = scaler.fit_transform(numerical_data)\n",
    "\n",
    "# Creating a DataFrame with the scaled columns\n",
    "scaled_df = pd.DataFrame(scaled_data, columns=numerical_columns)\n",
    "\n",
    "# Exploring the statistical summary of the scaled columns\n",
    "scaled_df.head()\n"
   ]
  },
  {
   "cell_type": "markdown",
   "metadata": {},
   "source": [
    "# 2. Modeling - Machine Learning"
   ]
  },
  {
   "cell_type": "markdown",
   "metadata": {},
   "source": [
    "## Linear Regression"
   ]
  },
  {
   "cell_type": "code",
   "execution_count": 13,
   "metadata": {},
   "outputs": [
    {
     "name": "stdout",
     "output_type": "stream",
     "text": [
      "Linear MSE: 0.0810\n",
      "Linear R²: 0.8653\n",
      "Linear MAE: 0.2197\n",
      "Linear RMSE: 0.2845\n",
      "Linear RMSE (CV): 0.6381\n"
     ]
    }
   ],
   "source": [
    "# Importing sklearn libraries for linear regression\n",
    "from sklearn.linear_model import LinearRegression\n",
    "from sklearn.model_selection import train_test_split\n",
    "from sklearn.metrics import mean_squared_error, r2_score\n",
    "from sklearn.metrics import mean_absolute_error, mean_squared_error\n",
    "from sklearn.model_selection import cross_val_score\n",
    "\n",
    "# Preparing data for modeling\n",
    "# Joining scaled numeric data with coded categorical data\n",
    "final_data = pd.concat([scaled_df, encoded_df], axis=1)\n",
    "\n",
    "# Definition of Independent and Dependent Variables:\n",
    "# The dependent variable will be 'Monthly Salary', while the independent variables will be the other columns.\n",
    "# Defining the independent variables (X) and the dependent variable (y)\n",
    "X = final_data.drop('SALARIO_MENSAL', axis=1)\n",
    "y = final_data['SALARIO_MENSAL']\n",
    "\n",
    "# Splitting data into training and testing sets\n",
    "X_train, X_test, y_train, y_test = train_test_split(X, y, test_size=0.25, random_state=20)\n",
    "\n",
    "# Function to calculate RMSE\n",
    "def rmse(y_true, y_pred):\n",
    "    return np.sqrt(mean_squared_error(y_true, y_pred))\n",
    "\n",
    "# Function to calculate RMSE using cross-validation\n",
    "def rmse_cv(model, X, y, cv=5):\n",
    "    rmse = np.sqrt(-cross_val_score(model, X, y, scoring=\"neg_mean_squared_error\", cv=cv))\n",
    "    return rmse\n",
    "\n",
    "# Creating and training the linear regression model\n",
    "model = LinearRegression()\n",
    "model.fit(X_train, y_train)\n",
    "\n",
    "# Making predictions on the test set\n",
    "y_pred = model.predict(X_test)\n",
    "\n",
    "# Evaluating the models performance\n",
    "linear_mse = mean_squared_error(y_test, y_pred)\n",
    "linear_r2= r2_score(y_test, y_pred)\n",
    "linear_mae = mean_absolute_error(y_test, y_pred)\n",
    "linear_rmse_value = rmse(y_test, y_pred)\n",
    "linear_rmse_cv_value = rmse_cv(model, X_train, y_train).mean()\n",
    "\n",
    "# Printing the results\n",
    "metrics = {\n",
    "    \"Linear MSE\": linear_mse,\n",
    "    \"Linear R²\": linear_r2,\n",
    "    \"Linear MAE\": linear_mae,\n",
    "    \"Linear RMSE\": linear_rmse_value,\n",
    "    \"Linear RMSE (CV)\": linear_rmse_cv_value\n",
    "}\n",
    "\n",
    "for metric, result in metrics.items():\n",
    "    text = f\"{metric}: {result:.4f}\"\n",
    "    print(text)"
   ]
  },
  {
   "cell_type": "markdown",
   "metadata": {},
   "source": [
    "<p>MSE is a metric that indicates the mean squared error of model predictions compared to actual values. A lower MSE value indicates better model performance. In this analysis, the MSE is relatively low, which demonstrates that the model predictions are very close to the real value, that is, the model is accurate.</p>\n",
    "<p>R² is a measure of how well variations in predicted values ​​are explained by the independent variables in the model. The R² value ranges from 0 to 1, where a value closer to 1 indicates that the model explains a large proportion of the variance in the dependent variable. An R² of 0.8653 suggests that the model explains approximately 86.5% of the variance in monthly salary, which is very good, but it also indicates that there are other factors not captured by the model that influence salary.</p>"
   ]
  },
  {
   "cell_type": "markdown",
   "metadata": {},
   "source": [
    "## Ridge Regression"
   ]
  },
  {
   "cell_type": "code",
   "execution_count": 14,
   "metadata": {},
   "outputs": [
    {
     "name": "stdout",
     "output_type": "stream",
     "text": [
      "Ridge MSE: 0.0746\n",
      "Ridge R2: 0.8758\n",
      "Ridge MAE: 0.2128\n",
      "Ridge RMSE: 0.2732\n",
      "Ridge RMSE (CV): 0.6285\n"
     ]
    }
   ],
   "source": [
    "# Importing sklearn libraries for Ridge regression\n",
    "from sklearn.linear_model import Ridge\n",
    "from sklearn.metrics import mean_squared_error, r2_score\n",
    "\n",
    "# Creating the Ridge regression model\n",
    "ridge_model = Ridge(alpha=1.0)\n",
    "ridge_model.fit(X_train, y_train)\n",
    "ridge_pred = ridge_model.predict(X_test)\n",
    "\n",
    "# Evaluating the models performance\n",
    "ridge_mse = mean_squared_error(y_test, ridge_pred)\n",
    "ridge_r2 = r2_score(y_test, ridge_pred)\n",
    "ridge_mae = mean_absolute_error(y_test, ridge_pred)\n",
    "ridge_rmse_value = rmse(y_test, ridge_pred)\n",
    "ridge_rmse_cv_value = rmse_cv(ridge_model, X_train, y_train).mean()\n",
    "\n",
    "# Printing the results\n",
    "print(\"Ridge MSE:\", ridge_mse.round(4))\n",
    "print(\"Ridge R2:\", ridge_r2.round(4))\n",
    "print(\"Ridge MAE:\", ridge_mae.round(4))\n",
    "print(\"Ridge RMSE:\", ridge_rmse_value.round(4))\n",
    "print(\"Ridge RMSE (CV):\", ridge_rmse_cv_value.round(4))"
   ]
  },
  {
   "cell_type": "markdown",
   "metadata": {},
   "source": [
    "<p>MSE is a measure of the mean squared error between the values ​​predicted by the model and the actual values. The lower the MSE, the better the model is at fitting the data. A value of 0.0746 indicates that the Ridge model has a relatively low mean squared error.</p>\n",
    "<p>R² is a measure of the proportion of variability in the response data that is explained by the model. It ranges from 0 to 1, where 1 indicates a perfect fit. A value of 0.8758 suggests that the Ridge model is able to explain approximately 87.58% of the variability in the response data."
   ]
  },
  {
   "cell_type": "markdown",
   "metadata": {},
   "source": [
    "## Lasso Regression"
   ]
  },
  {
   "cell_type": "code",
   "execution_count": 15,
   "metadata": {},
   "outputs": [
    {
     "name": "stdout",
     "output_type": "stream",
     "text": [
      "Lasso MSE: 0.6761\n",
      "Lasso R2: -0.1251\n",
      "Lasso MAE: 0.7113\n",
      "Lasso RMSE: 0.8223\n",
      "Lasso RMSE (CV): 0.9578\n"
     ]
    }
   ],
   "source": [
    "# Importing sklearn libraries for Lasso regression\n",
    "from sklearn.linear_model import Lasso\n",
    "\n",
    "# Creating the Lasso regression model\n",
    "lasso_model = Lasso(alpha=1.0)\n",
    "lasso_model.fit(X_train, y_train)\n",
    "lasso_pred = lasso_model.predict(X_test)\n",
    "\n",
    "# Evaluating the models performance\n",
    "lasso_mse = mean_squared_error(y_test, lasso_pred)\n",
    "lasso_r2 = r2_score(y_test, lasso_pred)\n",
    "lasso_mae = mean_absolute_error(y_test, lasso_pred)\n",
    "lasso_rmse_value = rmse(y_test, lasso_pred)\n",
    "lasso_rmse_cv_value = rmse_cv(lasso_model, X_train, y_train).mean()\n",
    "\n",
    "# Printing the results\n",
    "print(\"Lasso MSE:\", lasso_mse.round(4))\n",
    "print(\"Lasso R2:\", lasso_r2.round(4))\n",
    "print(\"Lasso MAE:\", lasso_mae.round(4))\n",
    "print(\"Lasso RMSE:\", lasso_rmse_value.round(4))\n",
    "print(\"Lasso RMSE (CV):\", lasso_rmse_cv_value.round(4))"
   ]
  },
  {
   "cell_type": "markdown",
   "metadata": {},
   "source": [
    "<p>MSE is a measure of the mean squared error between the values ​​predicted by the model and the actual values. In this case, a value of 0.6761 indicates that the Lasso model has a relatively high mean squared error.</p>\n",
    "\n",
    "<p>R² is a measure of the proportion of variability in the response data that is explained by the model. A negative value, such as R²: -0.1251, suggests that the Lasso model is not fitting the data well and is not able to explain the variability in the data. A negative R² indicates that the model is worse than simply using the average of the response values ​​as a prediction.</p>"
   ]
  },
  {
   "cell_type": "markdown",
   "metadata": {},
   "source": [
    "## Elastic Net"
   ]
  },
  {
   "cell_type": "code",
   "execution_count": 16,
   "metadata": {},
   "outputs": [
    {
     "name": "stdout",
     "output_type": "stream",
     "text": [
      "Elastic Net MSE: 0.4817\n",
      "Elastic Net R2: 0.1984\n",
      "Lasso MAE: 0.5995\n",
      "Lasso RMSE: 0.694\n",
      "Lasso RMSE (CV): 0.8744\n"
     ]
    }
   ],
   "source": [
    "# Import libraries for Ridge Regression\n",
    "from sklearn.linear_model import ElasticNet\n",
    "from sklearn.metrics import mean_squared_error, r2_score\n",
    "\n",
    "# Creating the Elastic Net model\n",
    "elastic_net_model = ElasticNet(alpha=1.0, l1_ratio=0.5) # O l1_ratio é a mistura entre L1 e L2\n",
    "\n",
    "# Training the model\n",
    "elastic_net_model.fit(X_train, y_train)\n",
    "\n",
    "# Realizing the predictions\n",
    "elastic_net_pred = elastic_net_model.predict(X_test)\n",
    "\n",
    "# Evaluating the models performance\n",
    "elastic_net_mse = mean_squared_error(y_test, elastic_net_pred)\n",
    "elastic_net_r2 = r2_score(y_test, elastic_net_pred)\n",
    "elastic_mae = mean_absolute_error(y_test, elastic_net_pred)\n",
    "elastic_rmse_value = rmse(y_test, elastic_net_pred)\n",
    "elastic_rmse_cv_value = rmse_cv(elastic_net_model, X_train, y_train).mean()\n",
    "\n",
    "# Printing the results\n",
    "print(\"Elastic Net MSE:\", elastic_net_mse.round(4))\n",
    "print(\"Elastic Net R2:\", elastic_net_r2.round(4))\n",
    "print(\"Lasso MAE:\", elastic_mae.round(4))\n",
    "print(\"Lasso RMSE:\", elastic_rmse_value.round(4))\n",
    "print(\"Lasso RMSE (CV):\", elastic_rmse_cv_value.round(4))\n"
   ]
  },
  {
   "cell_type": "markdown",
   "metadata": {},
   "source": [
    "<p>This technique combines two other approaches called Lasso and Ridge. The idea behind this is to try and capture the best of both worlds. By combining Lasso and Ridge, Elastic Net strives to create a model that is not only good at making predictions, but is also stable and easy to interpret.</p>\n",
    "<p>MSE (Mean Square Error) of 0.4817: This is a measure of how close the model predictions are to the actual values. The lower the MSE, the better the model. An MSE of 0.4817 suggests that, on average, the model has reasonably low error in its predictions.\n",
    "<p>R²: This value ranges from 0 to 1 and indicates how much of the variation in the variable we are trying to predict (in this case, salary) can be explained by the model. An R² of 0.1984 means that around 19.84% of the salary variation is explained by the model. This is relatively low, indicating that the model is not particularly effective in explaining changes in wages.</p>\n",
    "</p>"
   ]
  },
  {
   "cell_type": "markdown",
   "metadata": {},
   "source": [
    "## XGBoost Regressor"
   ]
  },
  {
   "cell_type": "code",
   "execution_count": 17,
   "metadata": {},
   "outputs": [
    {
     "name": "stdout",
     "output_type": "stream",
     "text": [
      "Requirement already satisfied: xgboost in c:\\users\\felipe martins\\anaconda3\\lib\\site-packages (2.0.3)\n",
      "Requirement already satisfied: numpy in c:\\users\\felipe martins\\anaconda3\\lib\\site-packages (from xgboost) (1.21.5)\n",
      "Requirement already satisfied: scipy in c:\\users\\felipe martins\\anaconda3\\lib\\site-packages (from xgboost) (1.9.1)\n"
     ]
    }
   ],
   "source": [
    "# Install XGBoost Module\n",
    "!pip install xgboost"
   ]
  },
  {
   "cell_type": "code",
   "execution_count": 18,
   "metadata": {},
   "outputs": [
    {
     "name": "stdout",
     "output_type": "stream",
     "text": [
      "XGBoost MSE: 0.1449\n",
      "XGBoost R2: 0.7588\n",
      "XGBoost MAE: 0.2657\n",
      "XGBoost RMSE: 0.3807\n",
      "XGBoost RMSE (CV): 0.9016\n"
     ]
    }
   ],
   "source": [
    "# Import libraries xgboost\n",
    "from xgboost import XGBRegressor\n",
    "from sklearn.metrics import mean_squared_error, r2_score\n",
    "\n",
    "# Creating the XGBoost model\n",
    "xgb_model = XGBRegressor()\n",
    "\n",
    "# Trainning the model\n",
    "xgb_model.fit(X_train, y_train)\n",
    "\n",
    "# Realizing the predictions\n",
    "xgb_pred = xgb_model.predict(X_test)\n",
    "\n",
    "# Evaluating the models performance\n",
    "xgb_mse = mean_squared_error(y_test, xgb_pred)\n",
    "xgb_r2 = r2_score(y_test, xgb_pred)\n",
    "xgb_mae = mean_absolute_error(y_test, xgb_pred)\n",
    "xgb_rmse_value = rmse(y_test, xgb_pred)\n",
    "xgb_rmse_cv_value = rmse_cv(xgb_model, X_train, y_train).mean()\n",
    "\n",
    "# Printing the results\n",
    "print(\"XGBoost MSE:\", xgb_mse.round(4))\n",
    "print(\"XGBoost R2:\", xgb_r2.round(4))\n",
    "print(\"XGBoost MAE:\", xgb_mae.round(4))\n",
    "print(\"XGBoost RMSE:\", xgb_rmse_value.round(4))\n",
    "print(\"XGBoost RMSE (CV):\", xgb_rmse_cv_value.round(4))\n"
   ]
  },
  {
   "cell_type": "markdown",
   "metadata": {},
   "source": [
    "<p>MSE is a measure that evaluates how well the model made its estimates. The lower the number, the better. In this case, the XGBoost MSE value: 0.1449 indicates that the model made very accurate estimates, as the average error in the estimates is relatively low.</p>\n",
    "\n",
    "<p>R² is another measure that evaluates how well the model fits the data. The closer to 1, the better the model is at fitting the data. The XGBoost R2 value: 0.7588 suggests that the model managed to explain approximately 75.88% of the variation in the data accurately. This is a good sign that the model is working well for the problem addressed.</p>"
   ]
  },
  {
   "cell_type": "markdown",
   "metadata": {},
   "source": [
    "## Random Forest Regressor"
   ]
  },
  {
   "cell_type": "code",
   "execution_count": 19,
   "metadata": {},
   "outputs": [
    {
     "name": "stdout",
     "output_type": "stream",
     "text": [
      "Random Forest MSE: 0.1014\n",
      "Random Forest R2: 0.8313\n",
      "Random Forest MAE: 0.2486\n",
      "Random Forest RMSE: 0.3184\n",
      "Random Forest RMSE (CV): 0.7526\n"
     ]
    }
   ],
   "source": [
    "# Import libraries for Random Forest\n",
    "from sklearn.ensemble import RandomForestRegressor\n",
    "from sklearn.metrics import mean_squared_error, r2_score\n",
    "\n",
    "# Creating the Random Forest model\n",
    "random_forest_model = RandomForestRegressor()\n",
    "\n",
    "# Training the model\n",
    "random_forest_model.fit(X_train, y_train)\n",
    "\n",
    "# Realizing the predictions\n",
    "rf_pred = random_forest_model.predict(X_test)\n",
    "\n",
    "# Evaluating the models performance\n",
    "rf_mse = mean_squared_error(y_test, rf_pred)\n",
    "rf_r2 = r2_score(y_test, rf_pred)\n",
    "rf_mae = mean_absolute_error(y_test, rf_pred)\n",
    "rf_rmse_value = rmse(y_test, rf_pred)\n",
    "rf_rmse_cv_value = rmse_cv(random_forest_model, X_train, y_train).mean()\n",
    "\n",
    "# Printing the results\n",
    "print(\"Random Forest MSE:\", rf_mse.round(4))\n",
    "print(\"Random Forest R2:\", rf_r2.round(4))\n",
    "print(\"Random Forest MAE:\", rf_mae.round(4))\n",
    "print(\"Random Forest RMSE:\", rf_rmse_value.round(4))\n",
    "print(\"Random Forest RMSE (CV):\", rf_rmse_cv_value.round(4))\n"
   ]
  },
  {
   "cell_type": "markdown",
   "metadata": {},
   "source": [
    "## Support Vector Machines"
   ]
  },
  {
   "cell_type": "code",
   "execution_count": 20,
   "metadata": {},
   "outputs": [
    {
     "name": "stdout",
     "output_type": "stream",
     "text": [
      "SVR MSE: 0.1342\n",
      "SVR R2: 0.7767\n",
      "SVR MAE: 0.2755\n",
      "SVR RMSE: 0.3664\n",
      "SVR RMSE (CV): 0.5956\n"
     ]
    }
   ],
   "source": [
    "# Import libraries for Support Vector Regression (SVR)\n",
    "from sklearn.svm import SVR\n",
    "from sklearn.metrics import mean_squared_error, r2_score\n",
    "\n",
    "# Creating the SVR model\n",
    "svr_model = SVR()\n",
    "\n",
    "# Training the model\n",
    "svr_model.fit(X_train, y_train)\n",
    "\n",
    "# Realizing the predictions on the test set\n",
    "svr_pred = svr_model.predict(X_test)\n",
    "\n",
    "# Evaluating the models performance\n",
    "svr_mse = mean_squared_error(y_test, svr_pred)\n",
    "svr_r2 = r2_score(y_test, svr_pred)\n",
    "svr_mae = mean_absolute_error(y_test, svr_pred)\n",
    "svr_rmse_value = rmse(y_test, svr_pred)\n",
    "svr_rmse_cv_value = rmse_cv(svr_model, X_train, y_train).mean()\n",
    "\n",
    "# Printing the results\n",
    "print(\"SVR MSE:\", svr_mse.round(4))\n",
    "print(\"SVR R2:\", svr_r2.round(4))\n",
    "print(\"SVR MAE:\", svr_mae.round(4))\n",
    "print(\"SVR RMSE:\", svr_rmse_value.round(4))\n",
    "print(\"SVR RMSE (CV):\", svr_rmse_cv_value.round(4))"
   ]
  },
  {
   "cell_type": "markdown",
   "metadata": {},
   "source": [
    "## Polynomial Regression (Degree=2)"
   ]
  },
  {
   "cell_type": "code",
   "execution_count": 21,
   "metadata": {},
   "outputs": [
    {
     "name": "stdout",
     "output_type": "stream",
     "text": [
      "Polynomial Regression (Degree=2) MSE: 0.2491\n",
      "Polynomial Regression (Degree=2) R2: 0.5854\n",
      "Polynomial Regression (Degree=2) MAE: 0.4199\n",
      "Polynomial Regression (Degree=2) RMSE: 0.4991\n",
      "Polynomial Regression (Degree=2) RMSE (CV): 429398882901.5775\n"
     ]
    }
   ],
   "source": [
    "# Import libraries polynomial regression\n",
    "from sklearn.preprocessing import PolynomialFeatures\n",
    "from sklearn.linear_model import LinearRegression\n",
    "from sklearn.pipeline import make_pipeline\n",
    "from sklearn.metrics import mean_squared_error, r2_score\n",
    "\n",
    "# Creating the polynomial regression model\n",
    "poly_model = make_pipeline(PolynomialFeatures(degree=2), LinearRegression())\n",
    "\n",
    "# Training the model\n",
    "poly_model.fit(X_train, y_train)\n",
    "\n",
    "# Realizing the predictions on the test set\n",
    "poly_pred = poly_model.predict(X_test)\n",
    "\n",
    "# Evaluating the models performance\n",
    "poly_mse = mean_squared_error(y_test, poly_pred)\n",
    "poly_r2 = r2_score(y_test, poly_pred)\n",
    "poly_mae = mean_absolute_error(y_test, poly_pred)\n",
    "poly_rmse_value = rmse(y_test, poly_pred)\n",
    "poly_rmse_cv_value = rmse_cv(poly_model, X_train, y_train).mean()\n",
    "\n",
    "# Printing the results\n",
    "print(\"Polynomial Regression (Degree=2) MSE:\", poly_mse.round(4))\n",
    "print(\"Polynomial Regression (Degree=2) R2:\", poly_r2.round(4))\n",
    "print(\"Polynomial Regression (Degree=2) MAE:\", poly_mae.round(4))\n",
    "print(\"Polynomial Regression (Degree=2) RMSE:\", poly_rmse_value.round(4))\n",
    "print(\"Polynomial Regression (Degree=2) RMSE (CV):\", poly_rmse_cv_value.round(4))\n"
   ]
  },
  {
   "cell_type": "markdown",
   "metadata": {},
   "source": [
    "## Model Comparison"
   ]
  },
  {
   "cell_type": "code",
   "execution_count": 22,
   "metadata": {},
   "outputs": [
    {
     "data": {
      "text/html": [
       "<div>\n",
       "<style scoped>\n",
       "    .dataframe tbody tr th:only-of-type {\n",
       "        vertical-align: middle;\n",
       "    }\n",
       "\n",
       "    .dataframe tbody tr th {\n",
       "        vertical-align: top;\n",
       "    }\n",
       "\n",
       "    .dataframe thead th {\n",
       "        text-align: right;\n",
       "    }\n",
       "</style>\n",
       "<table border=\"1\" class=\"dataframe\">\n",
       "  <thead>\n",
       "    <tr style=\"text-align: right;\">\n",
       "      <th></th>\n",
       "      <th>Model</th>\n",
       "      <th>MSE</th>\n",
       "      <th>R2</th>\n",
       "      <th>MAE</th>\n",
       "      <th>RMSE</th>\n",
       "      <th>RMSE (CV)</th>\n",
       "    </tr>\n",
       "  </thead>\n",
       "  <tbody>\n",
       "    <tr>\n",
       "      <th>1</th>\n",
       "      <td>Ridge</td>\n",
       "      <td>0.074626</td>\n",
       "      <td>0.875818</td>\n",
       "      <td>0.212801</td>\n",
       "      <td>0.273177</td>\n",
       "      <td>6.284522e-01</td>\n",
       "    </tr>\n",
       "    <tr>\n",
       "      <th>0</th>\n",
       "      <td>Linear Regression</td>\n",
       "      <td>0.080953</td>\n",
       "      <td>0.865289</td>\n",
       "      <td>0.219674</td>\n",
       "      <td>0.284523</td>\n",
       "      <td>6.381208e-01</td>\n",
       "    </tr>\n",
       "    <tr>\n",
       "      <th>5</th>\n",
       "      <td>Random Forest</td>\n",
       "      <td>0.101357</td>\n",
       "      <td>0.831336</td>\n",
       "      <td>0.248598</td>\n",
       "      <td>0.318366</td>\n",
       "      <td>7.526500e-01</td>\n",
       "    </tr>\n",
       "    <tr>\n",
       "      <th>6</th>\n",
       "      <td>SVR</td>\n",
       "      <td>0.134219</td>\n",
       "      <td>0.776651</td>\n",
       "      <td>0.275475</td>\n",
       "      <td>0.366359</td>\n",
       "      <td>5.955840e-01</td>\n",
       "    </tr>\n",
       "    <tr>\n",
       "      <th>4</th>\n",
       "      <td>XGBoost</td>\n",
       "      <td>0.144934</td>\n",
       "      <td>0.758821</td>\n",
       "      <td>0.265659</td>\n",
       "      <td>0.380702</td>\n",
       "      <td>9.015901e-01</td>\n",
       "    </tr>\n",
       "    <tr>\n",
       "      <th>7</th>\n",
       "      <td>Polynomial Regression</td>\n",
       "      <td>0.249147</td>\n",
       "      <td>0.585404</td>\n",
       "      <td>0.419856</td>\n",
       "      <td>0.499147</td>\n",
       "      <td>4.293989e+11</td>\n",
       "    </tr>\n",
       "    <tr>\n",
       "      <th>3</th>\n",
       "      <td>Elastic Net</td>\n",
       "      <td>0.481699</td>\n",
       "      <td>0.198424</td>\n",
       "      <td>0.599522</td>\n",
       "      <td>0.694045</td>\n",
       "      <td>8.743992e-01</td>\n",
       "    </tr>\n",
       "    <tr>\n",
       "      <th>2</th>\n",
       "      <td>Lasso</td>\n",
       "      <td>0.676130</td>\n",
       "      <td>-0.125121</td>\n",
       "      <td>0.711330</td>\n",
       "      <td>0.822271</td>\n",
       "      <td>9.577674e-01</td>\n",
       "    </tr>\n",
       "  </tbody>\n",
       "</table>\n",
       "</div>"
      ],
      "text/plain": [
       "                   Model       MSE        R2       MAE      RMSE     RMSE (CV)\n",
       "1                  Ridge  0.074626  0.875818  0.212801  0.273177  6.284522e-01\n",
       "0      Linear Regression  0.080953  0.865289  0.219674  0.284523  6.381208e-01\n",
       "5          Random Forest  0.101357  0.831336  0.248598  0.318366  7.526500e-01\n",
       "6                    SVR  0.134219  0.776651  0.275475  0.366359  5.955840e-01\n",
       "4                XGBoost  0.144934  0.758821  0.265659  0.380702  9.015901e-01\n",
       "7  Polynomial Regression  0.249147  0.585404  0.419856  0.499147  4.293989e+11\n",
       "3            Elastic Net  0.481699  0.198424  0.599522  0.694045  8.743992e-01\n",
       "2                  Lasso  0.676130 -0.125121  0.711330  0.822271  9.577674e-01"
      ]
     },
     "execution_count": 22,
     "metadata": {},
     "output_type": "execute_result"
    }
   ],
   "source": [
    "# Creating a DataFrame with the results of all models\n",
    "model_comparison = pd.DataFrame({\n",
    "    \"Model\": [\"Linear Regression\", \"Ridge\", \"Lasso\", \"Elastic Net\", \"XGBoost\", \"Random Forest\", \"SVR\", \"Polynomial Regression\"],\n",
    "    \"MSE\": [linear_mse, ridge_mse, lasso_mse, elastic_net_mse, xgb_mse, rf_mse, svr_mse, poly_mse],\n",
    "    \"R2\": [linear_r2, ridge_r2, lasso_r2, elastic_net_r2, xgb_r2, rf_r2, svr_r2, poly_r2],\n",
    "    \"MAE\": [linear_mae, ridge_mae, lasso_mae, elastic_mae, xgb_mae, rf_mae, svr_mae, poly_mae],\n",
    "    \"RMSE\": [linear_rmse_value, ridge_rmse_value, lasso_rmse_value, elastic_rmse_value, xgb_rmse_value, rf_rmse_value, svr_rmse_value, poly_rmse_value],\n",
    "    \"RMSE (CV)\": [linear_rmse_cv_value, ridge_rmse_cv_value, lasso_rmse_cv_value, elastic_rmse_cv_value, xgb_rmse_cv_value, rf_rmse_cv_value, svr_rmse_cv_value, poly_rmse_cv_value]\n",
    "})\n",
    "\n",
    "# Ordering the DataFrame by R2\n",
    "model_comparison_sorted = model_comparison.sort_values(by=\"R2\", ascending=False)\n",
    "\n",
    "model_comparison_sorted"
   ]
  },
  {
   "cell_type": "markdown",
   "metadata": {},
   "source": [
    "# 3. Visualization"
   ]
  },
  {
   "cell_type": "code",
   "execution_count": 23,
   "metadata": {},
   "outputs": [
    {
     "data": {
      "image/png": "[encoded data removed]",
      "text/plain": [
       "<Figure size 1000x600 with 1 Axes>"
      ]
     },
     "metadata": {},
     "output_type": "display_data"
    }
   ],
   "source": [
    "# Creating a DataFrame with the results of all models\n",
    "df_graphic = pd.DataFrame(model_comparison_sorted)\n",
    "\n",
    "# Generating colors using Numpy\n",
    "colors = plt.cm.viridis_r(np.linspace(0, 1, len(df_graphic['Model'])))\n",
    "\n",
    "# Plotting the bar chart for R2 scores\n",
    "plt.figure(figsize=(10, 6))\n",
    "plt.barh(df_graphic['Model'], df_graphic['R2'], color=colors)\n",
    "plt.xlabel('R2 Score')\n",
    "plt.ylabel('Models')\n",
    "plt.title('Comparison of R2 Scores Across Different Models')\n",
    "plt.xticks(rotation=45, ha='right')\n",
    "plt.grid(True, linestyle='--', color='gray', alpha=0.5)\n",
    "\n",
    "# Displaying the plot\n",
    "plt.tight_layout()\n",
    "plt.show()\n",
    "\n"
   ]
  },
  {
   "cell_type": "markdown",
   "metadata": {},
   "source": [
    "The results of comparing the regression models provide several valuable insights. Let’s look at each metric and how the models performed:\n",
    "\n",
    "R²: Values ​​closer to 1 indicate a better model. The Ridge model leads, closely followed by Linear Regression, indicating that they explain a large proportion of the variation in wages."
   ]
  },
  {
   "cell_type": "code",
   "execution_count": 24,
   "metadata": {},
   "outputs": [
    {
     "data": {
      "image/png": "[encoded data removed]",
      "text/plain": [
       "<Figure size 1500x600 with 4 Axes>"
      ]
     },
     "metadata": {},
     "output_type": "display_data"
    }
   ],
   "source": [
    "# Create a list of metrics to plot\n",
    "metrics = [\"MSE\", \"MAE\", \"RMSE\", \"RMSE (CV)\"]\n",
    "\n",
    "# Create a color map\n",
    "colors = plt.cm.viridis_r(np.linspace(0, 1, len(metrics)))\n",
    "\n",
    "# Create subplots\n",
    "fig, axes = plt.subplots(1, len(metrics), figsize=(15, 6))\n",
    "\n",
    "# Iterate through each metric and plot\n",
    "for i, metric in enumerate(metrics):\n",
    "    axes[i].barh(df_graphic['Model'], df_graphic[metric], color=colors)\n",
    "    axes[i].set_xlabel(metric)\n",
    "    axes[i].set_ylabel('Models')\n",
    "    axes[i].set_title(f'{metric} x Models')\n",
    "    axes[i].tick_params(axis='y', labelrotation=45)\n",
    "    axes[i].grid(True, linestyle='--', color='gray', alpha=0.5)\n",
    "\n",
    "plt.tight_layout()\n",
    "plt.show()"
   ]
  },
  {
   "cell_type": "markdown",
   "metadata": {},
   "source": [
    "<b>MSE (Mean Squared Error)</b>: Measures the mean squared error of forecasts. The smaller, the better the model. The Ridge model had the lowest MSE, indicating that, on average, its prediction errors are smaller.\n",
    "\n",
    "<b>MAE (Mean Absolute Error)</b>: Measures the average absolute error of forecasts. Again, smaller is better, and the Ridge model has the smallest MAE.\n",
    "\n",
    "<b>RMSE (Root Mean Squared Error)</b>: It is the square root of the MSE and gives an idea of ​​the magnitude of the error in terms of the original data. Ridge and Linear Regression have the lowest RMSE values, again indicating superior performance.\n",
    "\n",
    "<b>RMSE (Cross-Validation)</b>: Provides an idea of ​​the generalizability of the model. In this case, lower values ​​indicate a model that generalizes better. Linear Regression and Ridge have the lowest RMSE (CV) values, suggesting they are more reliable in terms of generalizing to new data."
   ]
  },
  {
   "cell_type": "markdown",
   "metadata": {},
   "source": [
    "## Analysis"
   ]
  },
  {
   "cell_type": "markdown",
   "metadata": {},
   "source": [
    "Analyzing the results, we can conclude:\n",
    "\n",
    "Linear models (Ridge and Linear Regression) are the most robust and consistent in terms of performance, with Ridge having a slight advantage. They have good R² values ​​and the smallest errors (MSE, MAE, RMSE), as well as presenting the best generalization (RMSE (CV)).\n",
    "\n",
    "Random Forest and XGBoost: Although they do not outperform linear models in all metrics, both perform well, especially in terms of R², suggesting that they are quite effective in capturing salary variability.\n",
    "\n",
    "Polynomial Regression (Degree=2): Despite having a reasonable R², it has an extremely high RMSE (CV), indicating problems of overfitting or poor generalization.\n",
    "\n",
    "Lasso and Elastic Net: Did not do as well as the other models, especially Lasso, which has a negative R² value, indicating a poor fit.\n",
    "\n",
    "In summary, the Ridge and Linear Regression models are the most promising for this dataset, given their consistency across several important metrics and their generalizability. Finally, both models are recommended for their simplicity, ease of interpretation and the specific relevance of the variables in the context of the study."
   ]
  },
  {
   "cell_type": "markdown",
   "metadata": {},
   "source": [
    "# 4. Results"
   ]
  },
  {
   "cell_type": "markdown",
   "metadata": {},
   "source": [
    "## Linear Regression"
   ]
  },
  {
   "cell_type": "code",
   "execution_count": 25,
   "metadata": {},
   "outputs": [
    {
     "data": {
      "text/html": [
       "<div>\n",
       "<style scoped>\n",
       "    .dataframe tbody tr th:only-of-type {\n",
       "        vertical-align: middle;\n",
       "    }\n",
       "\n",
       "    .dataframe tbody tr th {\n",
       "        vertical-align: top;\n",
       "    }\n",
       "\n",
       "    .dataframe thead th {\n",
       "        text-align: right;\n",
       "    }\n",
       "</style>\n",
       "<table border=\"1\" class=\"dataframe\">\n",
       "  <thead>\n",
       "    <tr style=\"text-align: right;\">\n",
       "      <th></th>\n",
       "      <th>Coefficient</th>\n",
       "    </tr>\n",
       "  </thead>\n",
       "  <tbody>\n",
       "    <tr>\n",
       "      <th>CARGO_DIRETOR</th>\n",
       "      <td>0.610007</td>\n",
       "    </tr>\n",
       "    <tr>\n",
       "      <th>TEMPOCASA</th>\n",
       "      <td>0.552569</td>\n",
       "    </tr>\n",
       "    <tr>\n",
       "      <th>IDADE</th>\n",
       "      <td>0.116591</td>\n",
       "    </tr>\n",
       "    <tr>\n",
       "      <th>LOCAL_INTERIOR</th>\n",
       "      <td>0.107782</td>\n",
       "    </tr>\n",
       "    <tr>\n",
       "      <th>EDUCAÇÃO_SUPERIOR</th>\n",
       "      <td>0.088879</td>\n",
       "    </tr>\n",
       "    <tr>\n",
       "      <th>EDUCAÇÃO_SECUNDÁRIO</th>\n",
       "      <td>-0.088879</td>\n",
       "    </tr>\n",
       "    <tr>\n",
       "      <th>CARGO_GERENTE</th>\n",
       "      <td>-0.101836</td>\n",
       "    </tr>\n",
       "    <tr>\n",
       "      <th>LOCAL_CAPITAL</th>\n",
       "      <td>-0.107782</td>\n",
       "    </tr>\n",
       "    <tr>\n",
       "      <th>CARGO_AUXILIAR</th>\n",
       "      <td>-0.508171</td>\n",
       "    </tr>\n",
       "  </tbody>\n",
       "</table>\n",
       "</div>"
      ],
      "text/plain": [
       "                     Coefficient\n",
       "CARGO_DIRETOR           0.610007\n",
       "TEMPOCASA               0.552569\n",
       "IDADE                   0.116591\n",
       "LOCAL_INTERIOR          0.107782\n",
       "EDUCAÇÃO_SUPERIOR       0.088879\n",
       "EDUCAÇÃO_SECUNDÁRIO    -0.088879\n",
       "CARGO_GERENTE          -0.101836\n",
       "LOCAL_CAPITAL          -0.107782\n",
       "CARGO_AUXILIAR         -0.508171"
      ]
     },
     "execution_count": 25,
     "metadata": {},
     "output_type": "execute_result"
    }
   ],
   "source": [
    "# Coefficients of the linear regression model\n",
    "coefficients = pd.DataFrame(model.coef_, X.columns, columns=['Coefficient'])\n",
    "\n",
    "coefficients.sort_values(by='Coefficient', ascending=False)"
   ]
  },
  {
   "cell_type": "code",
   "execution_count": 26,
   "metadata": {},
   "outputs": [
    {
     "data": {
      "text/plain": [
       "<matplotlib.legend.Legend at 0x1457547cf70>"
      ]
     },
     "execution_count": 26,
     "metadata": {},
     "output_type": "execute_result"
    },
    {
     "data": {
      "image/png": "[encoded data removed]",
      "text/plain": [
       "<Figure size 1200x600 with 1 Axes>"
      ]
     },
     "metadata": {},
     "output_type": "display_data"
    }
   ],
   "source": [
    "# Filtring the data by location\n",
    "data_interior = df[df['LOCAL'] == 'INTERIOR']\n",
    "data_capital = df[df['LOCAL'] == 'CAPITAL']\n",
    "\n",
    "# Description of salaries in different locations\n",
    "desc_interior = data_interior['SALARIO_MENSAL'].describe()\n",
    "desc_capital = data_capital['SALARIO_MENSAL'].describe()\n",
    "\n",
    "# Comparing the statistical summary of the two locations\n",
    "# Grouping by education level and position\n",
    "grouped_interior = data_interior.groupby(['CARGO', 'EDUCAÇÃO'])['SALARIO_MENSAL'].mean().unstack()\n",
    "grouped_capital = data_capital.groupby(['CARGO', 'EDUCAÇÃO'])['SALARIO_MENSAL'].mean().unstack()\n",
    "\n",
    "# Graphical comparison of average salaries by education level and position\n",
    "plt.figure(figsize=(12, 6))\n",
    "sns.histplot(data_interior['SALARIO_MENSAL'], color='blue', label='Interior', kde=True, binwidth=200)\n",
    "sns.histplot(data_capital['SALARIO_MENSAL'], color='red', label='Capital', kde=True, binwidth=200)\n",
    "plt.title('Salary Distribution: Interior vs Capital')\n",
    "plt.xlabel('Monthly Salary')\n",
    "plt.ylabel('Frequency')\n",
    "plt.grid(True, linestyle='--', color='gray', alpha=0.5)\n",
    "plt.legend()\n"
   ]
  },
  {
   "cell_type": "markdown",
   "metadata": {},
   "source": [
    "Analysis of salaries among employees working in the interior and in the capital reveals interesting insights:\n",
    "\n",
    "<b>Salary Distribution</b>: The salary distribution shows that, on average, employees in the capital have higher salaries than those in the interior. The average salary in the capital is approximately 6,095.54 monetary units, while in the interior it is around 5,368.87.\n",
    "\n",
    "<b>Salary Variability</b>: Variability in salaries is greater in the capital (standard deviation of 1,300.43) compared to the interior (standard deviation of around 718.19). This suggests greater wage dispersion in the capital.\n",
    "\n",
    "<li>Salaries by Position and Education:</li>\n",
    "\n",
    "<b>Aides</b>: In the interior, assistants with secondary education have an average salary of approximately 4,707.23, and with higher education, around 5,412.47. In the capital, these values ​​are 5,318.38 (secondary) and 5,744.31 (higher), indicating higher salaries in the capital for both educational levels.\n",
    "\n",
    "<b>Managers</b>: In both locations, managers with higher education have slightly higher salaries than those with secondary education. In the capital, the difference is small, while in the interior it is more significant.\n",
    "\n",
    "<b>Directors</b>: Directors with secondary education have an average salary of 6,666.00, and with higher education, around 7,206.51. There is no data for directors in the interior.\n",
    "\n",
    "<li>Practical Implications:</li>\n",
    "\n",
    "<b>Cost of Living and Compensation Strategies</b>: The salary difference may reflect variations in the cost of living between the interior and the capital. The company may be adjusting salaries based on this variation to maintain equity.\n",
    "\n",
    "<b>Talent Attraction and Retention</b>: Higher salaries in the capital can be a strategy to attract and retain talent in a possibly more competitive market.\n",
    "\n",
    "<b>Human Resources Policies</b>: The company may need to review its compensation policies to ensure they are fair and competitive in both regions.\n",
    "\n",
    "These observations indicate that, in addition to geographic location, factors such as position held and level of education play crucial roles in determining salaries. The company can use this information to refine its personnel management strategies and salary policies."
   ]
  },
  {
   "cell_type": "code",
   "execution_count": 28,
   "metadata": {},
   "outputs": [
    {
     "data": {
      "image/png": "[encoded data removed]",
      "text/plain": [
       "<Figure size 1400x800 with 1 Axes>"
      ]
     },
     "metadata": {},
     "output_type": "display_data"
    }
   ],
   "source": [
    "\n",
    "# Create dummy variables for categorical columns\n",
    "data_dummy = pd.get_dummies(df, columns=['EDUCAÇÃO', 'CARGO', 'LOCAL'])\n",
    "\n",
    "# Create and train the linear regression model\n",
    "X = data_dummy.drop(['ID', 'SALARIO_MENSAL'], axis=1)\n",
    "y = data_dummy['SALARIO_MENSAL']\n",
    "model = LinearRegression()\n",
    "model.fit(X, y)\n",
    "\n",
    "# Creating a DataFrame to make it easier to visualize data in the chart\n",
    "data_plot = df.copy()\n",
    "data_plot['PREDICTED_SALARY'] = model.predict(X)\n",
    "\n",
    "# Separating the data by location\n",
    "data_plot_interior = data_plot[data_plot['LOCAL'] == 'INTERIOR']\n",
    "data_plot_capital = data_plot[data_plot['LOCAL'] == 'CAPITAL']\n",
    "\n",
    "# Graphic of the distribution of salaries by age and location\n",
    "plt.figure(figsize=(14, 8))\n",
    "sns.regplot(x='TEMPOCASA', y='SALARIO_MENSAL', data=data_plot_interior, label='Interior', color='blue', scatter_kws={'alpha':0.5})\n",
    "sns.regplot(x='TEMPOCASA', y='SALARIO_MENSAL', data=data_plot_capital, label='Capital', color='red', scatter_kws={'alpha':0.5})\n",
    "plt.title('Linear Regression - Salary Distribution: Interior vs Capital')\n",
    "plt.xlabel('Age')\n",
    "plt.ylabel('Monthly Salary')\n",
    "plt.grid(True, linestyle='--', color='gray', alpha=0.5)\n",
    "plt.legend()\n",
    "plt.show()"
   ]
  },
  {
   "cell_type": "markdown",
   "metadata": {},
   "source": [
    "## Conclusion"
   ]
  },
  {
   "cell_type": "markdown",
   "metadata": {},
   "source": [
    "The chart provides valuable insights into how tenure affects salaries and how this relationship varies across different regions.\n",
    "\n",
    "<b>Regional Salary Differences</b>: Salaries in the capital tend to be higher than in the interior for a given length of service. This reinforces the notion that geographic location significantly influences salaries. This could be due to several factors, such as the higher cost of living in the capital, a greater demand for certain skills, or a greater concentration of positions with higher salaries.\n",
    "\n",
    "<b>Positive Relationship between Time at Home and Salary</b>: For both the interior and capital, a positive trend is observed, indicating that longer time at work is generally associated with higher salaries. This suggests that accumulated experience and loyalty to the company are valued in terms of remuneration.\n",
    "\n",
    "<b>Variation in Wages</b>: There is considerable variation in wages in both regions, as indicated by the spread of points around the regression lines. This variation can be attributed to factors such as education, position, length of service and other factors not considered in the analysis.\n",
    "\n",
    "<b>Slope</b>: The slope of the regression lines suggests that salary increases with seniority are similar in both regions, despite higher salary levels in the capital.\n",
    "\n",
    "<b>Valuing Experience</b>: The graph reinforces the idea that experience within the company, reflected by length of service, is an important factor in determining salaries, regardless of geographic location."
   ]
  }
 ],
 "metadata": {
  "kernelspec": {
   "display_name": "base",
   "language": "python",
   "name": "python3"
  },
  "language_info": {
   "codemirror_mode": {
    "name": "ipython",
    "version": 3
   },
   "file_extension": ".py",
   "mimetype": "text/x-python",
   "name": "python",
   "nbconvert_exporter": "python",
   "pygments_lexer": "ipython3",
   "version": "3.9.13"
  }
 },
 "nbformat": 4,
 "nbformat_minor": 2
}
